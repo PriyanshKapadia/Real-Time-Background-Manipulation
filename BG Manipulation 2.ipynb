{
 "cells": [
  {
   "cell_type": "code",
   "execution_count": 4,
   "metadata": {},
   "outputs": [],
   "source": [
    "import cv2\n",
    "import cvzone\n",
    "from cvzone.SelfiSegmentationModule import SelfiSegmentation\n",
    "import os\n",
    "\n",
    "cap = cv2.VideoCapture(0)\n",
    "cap.set(3, 640)\n",
    "cap.set(4, 480)\n",
    "cap.set(cv2.CAP_PROP_FPS, 60)\n",
    "segmentor = SelfiSegmentation()\n",
    "fpsReader = cvzone.FPS()\n",
    "\n",
    "\n",
    "listImg = os.listdir(\"backgrounds\")\n",
    "\n",
    "imgList = []\n",
    "for i in listImg:\n",
    "    img = cv2.imread(f'backgrounds/{i}')\n",
    "    imgList.append(img)\n",
    "\n",
    "indexImg = 0\n",
    "\n",
    "while True:\n",
    "    success, img = cap.read()\n",
    "    imgOut = segmentor.removeBG(img, imgList[indexImg], threshold=0.6)\n",
    "\n",
    "    imgStacked = cvzone.stackImages([img, imgOut], 2, 1)\n",
    "    _, imgStacked = fpsReader.update(imgStacked, color=(0, 0, 255))\n",
    "    cv2.imshow(\"Image\", imgStacked)\n",
    "    key = cv2.waitKey(1)\n",
    "    if key == ord('a'):\n",
    "        if indexImg > 0:\n",
    "            indexImg -= 1\n",
    "    elif key == ord('d'):\n",
    "        if indexImg < len(listImg)-1:\n",
    "            indexImg += 1\n",
    "    elif key == ord('q'):\n",
    "        break\n",
    "\n",
    "cap.release()\n",
    "cv2.destroyAllWindows()"
   ]
  }
 ],
 "metadata": {
  "kernelspec": {
   "display_name": "DIP",
   "language": "python",
   "name": "dip"
  },
  "language_info": {
   "codemirror_mode": {
    "name": "ipython",
    "version": 3
   },
   "file_extension": ".py",
   "mimetype": "text/x-python",
   "name": "python",
   "nbconvert_exporter": "python",
   "pygments_lexer": "ipython3",
   "version": "3.10.9"
  },
  "orig_nbformat": 4
 },
 "nbformat": 4,
 "nbformat_minor": 2
}
